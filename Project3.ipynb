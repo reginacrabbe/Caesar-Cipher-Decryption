{
 "cells": [
  {
   "cell_type": "code",
   "execution_count": 7,
   "id": "9b4919f5",
   "metadata": {},
   "outputs": [
    {
     "name": "stdout",
     "output_type": "stream",
     "text": [
      "Enter the encrypted text you want to decrypt: QEB NRFZH YOLTK CLU GRJMP LSBO QEB IXWV ALD\n",
      "Enter the key value: 3\n",
      "THE QUICK BROWN FOX JUMPS OVER THE LAZY DOG\n"
     ]
    }
   ],
   "source": [
    "# define parameters\n",
    "def caesar_cipher_encrypt(plaintext, key, encrypt=True):\n",
    "    \"\"\"\n",
    "    Encrypts the plaintext using the Caesar Cipher encryption technique.\n",
    "    :plaintext: The message to be encrypted\n",
    "    :key: The number of positions to shift the letters\n",
    "    :encrypt: If True, encrypts the message using the key \n",
    "    \"\"\"\n",
    " \n",
    "    encrypted_text = \"\"\n",
    "    plaintext = plaintext.upper()\n",
    "    # Loops through each character in the plaintext\n",
    "    for char in plaintext:\n",
    "        if char.isalpha():  # If the character is a letter, shift it by the key positions\n",
    "      # If encrypt is True, shift the character left by the key positions\n",
    "            if encrypt == True:\n",
    "             # Encryption formula: shift = (char + shift) % 26\n",
    "                encrypted_text += chr((ord(char) - 65 - key) % 26 + 65)\n",
    "                \n",
    "            # Decryption formula: shift = (char - shift) % 26\n",
    "            else:\n",
    "                encrypted_text += chr((ord(char) - 65 + key) % 26 + 65)\n",
    "        else:\n",
    "            # If the character is not an alphabetic letter, keep it as it is\n",
    "            encrypted_text += char\n",
    "    return encrypted_text  # Returns the encrypted message\n",
    "\n",
    "# Ciphertext to decrypt\n",
    "encrypted_text = input(\"Enter the encrypted text you want to decrypt: \")\n",
    "\n",
    "# Define the key value\n",
    "key = int(input(\"Enter the key value: \"))\n",
    "\n",
    "# Decrypt the ciphertext using the caesar_cipher function\n",
    "decrypted_text = caesar_cipher_encrypt(encrypted_text, key, encrypt=False)\n",
    "\n",
    "print(decrypted_text) "
   ]
  },
  {
   "cell_type": "code",
   "execution_count": null,
   "id": "93c147c6",
   "metadata": {},
   "outputs": [],
   "source": []
  }
 ],
 "metadata": {
  "kernelspec": {
   "display_name": "Python 3 (ipykernel)",
   "language": "python",
   "name": "python3"
  },
  "language_info": {
   "codemirror_mode": {
    "name": "ipython",
    "version": 3
   },
   "file_extension": ".py",
   "mimetype": "text/x-python",
   "name": "python",
   "nbconvert_exporter": "python",
   "pygments_lexer": "ipython3",
   "version": "3.11.3"
  }
 },
 "nbformat": 4,
 "nbformat_minor": 5
}
